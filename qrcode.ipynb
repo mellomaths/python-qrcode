{
 "cells": [
  {
   "cell_type": "markdown",
   "id": "1280aa5b",
   "metadata": {},
   "source": [
    "# Python QR Code"
   ]
  },
  {
   "cell_type": "markdown",
   "id": "7e931ae0",
   "metadata": {},
   "source": [
    "## Installing dependencies"
   ]
  },
  {
   "cell_type": "code",
   "execution_count": 24,
   "id": "fa7c5362",
   "metadata": {},
   "outputs": [],
   "source": [
    "# Used for image processing\n",
    "# !pip install Pillow"
   ]
  },
  {
   "cell_type": "code",
   "execution_count": 25,
   "id": "8bd2f44b",
   "metadata": {},
   "outputs": [],
   "source": [
    "# !pip install qrcode"
   ]
  },
  {
   "cell_type": "markdown",
   "id": "d6be58b8",
   "metadata": {},
   "source": [
    "## Importing libraries to be used"
   ]
  },
  {
   "cell_type": "code",
   "execution_count": 26,
   "id": "5c46e487",
   "metadata": {},
   "outputs": [],
   "source": [
    "import qrcode"
   ]
  },
  {
   "cell_type": "markdown",
   "id": "c37641d0",
   "metadata": {},
   "source": [
    "## Creating QR Codes with simple data"
   ]
  },
  {
   "cell_type": "code",
   "execution_count": 27,
   "id": "09e82b01",
   "metadata": {},
   "outputs": [],
   "source": [
    "data = \"I love Rio\"\n",
    "img = qrcode.make(data)\n",
    "img.show()"
   ]
  },
  {
   "cell_type": "markdown",
   "id": "18d8b6dd",
   "metadata": {},
   "source": [
    "## Customizing QR Code and adding links to them"
   ]
  },
  {
   "cell_type": "code",
   "execution_count": 28,
   "id": "07f1912f",
   "metadata": {},
   "outputs": [],
   "source": [
    "PG_BLUE = (27, 54, 87)\n",
    "PG_GREEN = (0, 174, 150)\n",
    "\n",
    "data = {\n",
    "    \"video\": \"https://www.youtube.com/watch?v=BDhSrdopl-Q\",\n",
    "    \"audio\": \"https://open.spotify.com/show/0gkJ4Wy8wXJkJc2lZVfLyx?si=8f2adce40bd141e0\",\n",
    "    \"image\": \"https://images.unsplash.com/photo-1652352530301-dc807f7113a4?ixlib=rb-1.2.1&ixid=MnwxMjA3fDB8MHxwaG90by1wYWdlfHx8fGVufDB8fHx8&auto=format&fit=crop&w=764&q=80\"\n",
    "}\n",
    "\n",
    "colors = [\n",
    "    {\n",
    "        \"fill_color\": PG_BLUE,\n",
    "        \"back_color\": 'white'\n",
    "    },\n",
    "    {\n",
    "        \"fill_color\": 'white',\n",
    "        \"back_color\": PG_GREEN\n",
    "    },\n",
    "    {\n",
    "        \"fill_color\": PG_GREEN,\n",
    "        \"back_color\": PG_BLUE\n",
    "    }\n",
    "]\n",
    "\n",
    "\n",
    "for i, (media_type, url) in enumerate(data.items()):\n",
    "    ## ERROR_CORRECT_H => About 30% or less errors can be corrected.\n",
    "    qr = qrcode.QRCode(\n",
    "        version=1,\n",
    "        error_correction=qrcode.constants.ERROR_CORRECT_H,\n",
    "        # box_size=10,\n",
    "        # border=4,\n",
    "    )\n",
    "    \n",
    "    qr.add_data(url)\n",
    "\n",
    "    qr_color = colors[i]\n",
    "    \n",
    "    img = qr.make_image(\n",
    "        fill_color=qr_color[\"fill_color\"],\n",
    "        back_color=qr_color[\"back_color\"]\n",
    "    )\n",
    "    img.save(f\"img/{media_type}.png\")"
   ]
  },
  {
   "cell_type": "markdown",
   "id": "0ae165e7",
   "metadata": {},
   "source": [
    "## How can I make the QR Code invalid?\n",
    "\n",
    "QR Codes are just information coded in an image. To invalidate that, developers usually invalidate the link that goes inside the QR Code on the backend ."
   ]
  }
 ],
 "metadata": {
  "kernelspec": {
   "display_name": "Python 3 (ipykernel)",
   "language": "python",
   "name": "python3"
  },
  "language_info": {
   "codemirror_mode": {
    "name": "ipython",
    "version": 3
   },
   "file_extension": ".py",
   "mimetype": "text/x-python",
   "name": "python",
   "nbconvert_exporter": "python",
   "pygments_lexer": "ipython3",
   "version": "3.9.7"
  }
 },
 "nbformat": 4,
 "nbformat_minor": 5
}
